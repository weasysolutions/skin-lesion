{
 "cells": [
  {
   "cell_type": "markdown",
   "metadata": {
    "slideshow": {
     "slide_type": "slide"
    }
   },
   "source": [
    "## *Lesiones de la piel*\n",
    "\n",
    "\n",
    "### Aprendizaje profundo: Redes Neuronales Convolutivas con TensorFlow"
   ]
  },
  {
   "cell_type": "markdown",
   "metadata": {
    "slideshow": {
     "slide_type": "slide"
    }
   },
   "source": [
    "### Motivación\n",
    "\n",
    "La dermatoscopia es una técnica de diagnóstico ampliamente utilizada que mejora el diagnóstico de lesiones cutáneas benignas y malignas en comparación con el examen a simple vista. Las imágenes dermatoscópicas también son una fuente adecuada para entrenar redes neuronales artificiales para diagnosticar automáticamente lesiones cutáneas pigmentadas. \n",
    "\n",
    "Los avances recientes en las capacidades de las tarjetas gráficas y las técnicas de aprendizaje en máquinas establecen nuevos puntos de referencia con respecto a la complejidad de las redes neuronales y aumentan las expectativas de que pronto estarán disponibles sistemas de diagnóstico automatizados que diagnostican todo tipo de lesiones cutáneas pigmentadas sin la necesidad de experiencia humana (https://arxiv.org/abs/1803.10417).\n",
    "\n",
    "La capacitación de algoritmos de diagnóstico basados ​​en redes neuronales requiere un gran número de imágenes anotadas (o etiquetadas), pero el número de imágenes dermatoscópicas de alta calidad con diagnósticos confiables está limitado o restringido a solo unas pocas clases de enfermedades.\n"
   ]
  },
  {
   "cell_type": "markdown",
   "metadata": {
    "slideshow": {
     "slide_type": "slide"
    }
   },
   "source": [
    "### El archivo ISIC (International Skin Imaging Collaboration)\n",
    "\n",
    "El archivo ISIC (https://isic-archive.com/) es una colección de múltiples bases de datos e incluye actualmente 13786 imágenes dermatoscópicas (a partír del 12 de febrero de 2018). Es la fuente estándar para la investigación de análisis de imágenes dermatoscópicas. Sin embargo, está sesgada hacia las lesiones melanocíticas (12893 de 13786 imágenes son nevi ormelanomas). \n",
    "\n",
    "Debido a que este portal es el recurso más completo, técnicamente avanzado y accesible para la dermatoscopia digital, proporcionaremos nuestro conjunto de datos a través del archivo ISIC. Debido a las limitaciones de los conjuntos de datos disponibles, las investigaciones anteriores se centraron en las lesiones melanocíticas (es decir, la diferenciación entre melanoma y nevus) y No se tienen en cuenta las lesiones pigmentadas no melanocíticas, aunque son comunes en la práctica. \n",
    "\n",
    "Para impulsar la investigación sobre el diagnóstico automatizado de imágenes dermatoscópicas, recientemente investigadores de la Univ. Médica de Vienna y la Universidad de Queensland lanzaron el conjunto de datos HAM10000 [“Human Against Machine con 10000 imágenes de entrenamiento”]\n",
    "\n"
   ]
  },
  {
   "cell_type": "markdown",
   "metadata": {
    "slideshow": {
     "slide_type": "slide"
    }
   },
   "source": [
    "\n",
    "*El artículo se encuentra en la siguiente liga: <br>*\n",
    "> [El conjunto de datos HAM10000: una gran colección de imágenes dermatoscópicas de múltiples fuentes de lesiones cutáneas pigmentadas comunes](https://arxiv.org/abs/1803.10417)<br>\n",
    "\n"
   ]
  },
  {
   "cell_type": "markdown",
   "metadata": {
    "_uuid": "d6f77793e7ebbcd523899bafaa9dae9763b9a0a5",
    "slideshow": {
     "slide_type": "slide"
    }
   },
   "source": [
    "**Introduction y Objetivo de la Lección **\n",
    "\n",
    "Este libro detalla un proceso que construye el modelo y luego convertirlo de Keras a Tensorflow.js. El código javascript, html y css para la aplicación está disponible en github. <br>\n",
    "\n",
    "Si un modelo tiene una precisión del 60%, por lo general se consideraría un modelo malo. Sin embargo, si también tiene una precisión del 3% superior al 90% y el objetivo requiere que produzca 3 predicciones, entonces puede ser un buen modelo.\n",
    "\n",
    "*Este es el objetivo que se ha definido para esta tarea:*\n",
    "\n",
    "> Crear una herramienta en línea que pueda decirle a los médicos y tecnólogos de laboratorio los tres diagnósticos de mayor probabilidad para una lesión cutánea determinada. Esto les ayudará a identificar rápidamente a los pacientes de alta prioridad y acelerar su flujo de trabajo. La aplicación debe producir un resultado en menos de 3 segundos. Para garantizar la privacidad, las imágenes se deben preprocesar y analizar localmente y nunca se deben cargar en un servidor externo.\n",
    "\n",
    "\n"
   ]
  },
  {
   "cell_type": "markdown",
   "metadata": {
    "slideshow": {
     "slide_type": "slide"
    }
   },
   "source": [
    "### [ Descripción de las categorías del diagnóstico:](https://arxiv.org/abs/1803.10417) <br>\n",
    "\n",
    " **nv** <br>\n",
    " Los nevos melanocíticos son neoplasias benignas de melanocitos y aparecen en una gran variedad de variantes, que están incluidas en nuestra serie. Las variantes pueden diferir significativamente desde un punto de vista dermatoscópico. <br>\n",
    " *[6705 imágenes]*\n",
    " ***"
   ]
  },
  {
   "cell_type": "markdown",
   "metadata": {
    "slideshow": {
     "slide_type": "fragment"
    }
   },
   "source": [
    " \n",
    " **mel** <br>\n",
    " El melanoma es una neoplasia maligna derivada de melanocitos que puede aparecer en diferentes variantes. Si se extirpa en una etapa temprana, se puede curar por escisión quirúrgica simple. Los melanomas pueden ser invasivos o no invasivos (in situ). Se incluyen todas las variantes de melanoma, incluido el melanoma in situ, pero se excluye el melanoma no pigmentado, subungueal, ocular o mucoso. <br> \n",
    " *[1113 imágenes]*"
   ]
  },
  {
   "cell_type": "markdown",
   "metadata": {
    "slideshow": {
     "slide_type": "slide"
    }
   },
   "source": [
    "### [ Descripción de las categorías del diagnóstico:](https://arxiv.org/abs/1803.10417) <br>\n",
    " \n",
    "** bkl ** <br>\n",
    " La \"queratosis benigna\" es una clase genérica que incluye queratosis seborreica (\"verruga senil\"), lentigo solar, que puede considerarse una variante plana de la queratosis seborreica y liquenoplus como queratosis (LPLK), que corresponde a una seborréica Queratosis o un lentigo solar con inflamación y regresión [22]. Los tres subgrupos pueden tener un aspecto dermatoscópico diferente, pero los agrupamos porque son biológicamente similares y, a menudo, se informan bajo el mismo término genérico histopatológicamente. Desde un punto de vista dermatoscópico, las queratosis de tipo liquen plano son especialmente desafiantes porque pueden mostrar características morfológicas que simulan un melanoma [23] y con frecuencia se realizan biopsias o se extirpan por razones diagnósticas.\n",
    "*[1099 imágenes]*\n",
    "***\n",
    "**bcc** <br>\n",
    "El carcinoma de células basales es una variante común del cáncer de piel epitelial que rara vez hace metástasis pero crece destructivamente si no se trata. Aparece en diferentes variantes morfológicas (plana, nodular, pigmentada, quística, etc.), todas incluidas en este conjunto. <br>\n",
    "*[514 imágenes] *\n",
    "*** "
   ]
  },
  {
   "cell_type": "markdown",
   "metadata": {
    "_uuid": "d3f6843b78793e1c047ca6909a7449dc9bfc3f1c",
    "slideshow": {
     "slide_type": "slide"
    }
   },
   "source": [
    "\n",
    "** akiec ** <br>\n",
    "Las queratosis actínicas (queratosis solares) y el carcinoma intraepitelial (enfermedad de Bowen) son variantes no invasivas comunes del carcinoma de células escamosas que pueden tratarse localmente sin cirugía. Algunos autores los consideran como precursores de carcinomas de células escamosas y no como carcinomas reales. Sin embargo, hay acuerdo en que estas lesiones pueden progresar a un carcinoma de células escamosas invasivo, que generalmente no está pigmentado. Ambas neoplasias comúnmente muestran escamas en la superficie y comúnmente están desprovistas de pigmento. Las queratosis actínicas son más comunes en la cara y la enfermedad de Bowen es más común en otros sitios del cuerpo. Debido a que ambos tipos están inducidos por la luz ultravioleta, la piel circundante generalmente se caracteriza por daños severos causados ​​por el sol, excepto en los casos de enfermedad de Bowen que son causados por la infección del virus del papiloma humano y no por los rayos UV. Existen variantes pigmentadas para la enfermedad de Bowen [19] y para las queratosis actínicas [20]. Ambos están incluidos en este conjunto. <br>\n",
    "*[327 imágenes]*\n",
    "***\n"
   ]
  },
  {
   "cell_type": "markdown",
   "metadata": {
    "slideshow": {
     "slide_type": "slide"
    }
   },
   "source": [
    "** vasc ** <br>\n",
    "Las lesiones vasculares de la piel en el conjunto de datos van desde los angiomas de cereza hasta los angioqueratomas [25] y los granulomas piógenos [26]. La hemorragia también se incluye en esta categoría. <br>\n",
    "*[142 imágenes]*\n",
    "\n",
    "** df ** <br>\n",
    "El dermatofibroma es una lesión benigna de la piel considerada como una proliferación benigna o una reacción inflamatoria a un trauma mínimo. Es marrón y con frecuencia muestra una zona central de fibrosis dermatoscópica [24]. <br>\n",
    "*[115 imágenes]*\n",
    "\n",
    "\n",
    "<br> * [Imágenes totales = 10015] *"
   ]
  },
  {
   "cell_type": "markdown",
   "metadata": {
    "slideshow": {
     "slide_type": "slide"
    }
   },
   "source": [
    "### [TensorFlow](https://www.tensorflow.org/)\n",
    "\n",
    "TensorFlow es una plataforma de código abierto  para el aprendizaje automático. Cuenta con un ecosistema integral y flexible de herramientas, bibliotecas y recursos de la comunidad que permite a los investigadores impulsar el estado de la técnica en ML y los desarrolladores pueden crear y desplegar fácilmente aplicaciones potenciadas por ML.\n",
    "\n",
    "### [Keras](https://keras.io/)\n",
    "\n",
    "Keras es una interfaz de programación de aplicaciones (API) de redes neuronales de alto nivel, escrita en Python y capaz de ejecutarse sobre TensorFlow, CNTK o Theano. Fue desarrollado con un enfoque en permitir la experimentación rápida. Poder pasar de la idea al resultado con el menor retraso posible es clave para hacer una buena investigación.\n"
   ]
  },
  {
   "cell_type": "markdown",
   "metadata": {
    "slideshow": {
     "slide_type": "skip"
    }
   },
   "source": [
    "### Aprendizaje Profundo \n",
    "\n",
    "La mayoría de los modelos modernos de aprendizaje profundo se basan en una red neuronal artificial,\n",
    "\n",
    "En el aprendizaje profundo, cada nivel aprende a transformar sus datos de entrada en una representación un poco más abstracta y compuesta. En una aplicación de reconocimiento de imágenes, la entrada sin formato puede ser una matriz de píxeles; la primera capa de representación puede abstraer los píxeles y codificar los bordes; la segunda capa puede componer y codificar arreglos de bordes; la tercera capa puede codificar una nariz y ojos; y la cuarta capa puede reconocer que la imagen contiene una cara. Es importante destacar que un proceso de aprendizaje profundo puede aprender qué características ubicar de manera óptima en qué nivel por sí solo. (Por supuesto, esto no elimina completamente la necesidad del ajuste manual; por ejemplo, un número variable de capas y tamaños de capas puede proporcionar diferentes grados de abstracción). \n",
    "\n",
    "El \"profundo\" en \"aprendizaje profundo\" se refiere al número de capas a través de las cuales se transforman los datos. Más precisamente, los sistemas de aprendizaje profundo tienen una profundidad de ruta de asignación de crédito (CAP) sustancial. El CAP es la cadena de transformaciones de entrada a salida. Los CAP describen conexiones potencialmente causales entre entrada y salida. Para una red neuronal avanzada, la profundidad de los CAP es la de la red y es el número de capas ocultas más una (ya que la capa de salida también está parametrizada). Para redes neuronales recurrentes, en las que una señal puede propagarse a través de una capa más de una vez, la profundidad de la PAC es potencialmente ilimitada. [2] No se acordó universalmente que el umbral de profundidad divide el aprendizaje superficial del aprendizaje profundo, pero la mayoría de los investigadores están de acuerdo en que el aprendizaje profundo implica una profundidad de la PAC. cita requerida] Más allá de que más capas no se agregan a la función de aproximación de la función de la red. Los modelos profundos (CAP> 2) son capaces de extraer mejores características que los modelos poco profundos y, por lo tanto, las capas adicionales ayudan en las características de aprendizaje."
   ]
  },
  {
   "cell_type": "markdown",
   "metadata": {},
   "source": [
    "### [Aprendizaje Profundo y Redes Neuronales](http://neuralnetworksanddeeplearning.com/index.html)\n",
    "\n",
    "#### Introducción.\n",
    "\n",
    "El sistema visual humano es una de las maravillas del mundo. Considere la siguiente secuencia de dígitos escritos a mano: \n",
    "<center> \n",
    "<a href=\"https://fontmeme.com/handwriting-fonts/\">\n",
    "<img src=\"https://fontmeme.com/permalink/190307/05e4494c338d7e33420364ec6abe0b42.png\" alt=\"handwriting-fonts\" border=\"0\"></a> \n",
    "</center>\n",
    "\n",
    "La mayoría de las personas reconocen sin esfuerzo esos dígitos como 570139. Esta facilidad engañosa. En cada hemisferio de nuestro cerebro, los humanos tienen una corteza visual primaria, también conocida como V1, que contiene 140 millones de neuronas, con decenas de miles de millones de conexiones entre ellas. Y, sin embargo, la visión humana implica no solo V1, sino toda una serie corticales visuales (V2, V3, V4 y V5) que realizan un procesamiento de imágenes cada vez más complejo."
   ]
  },
  {
   "cell_type": "markdown",
   "metadata": {},
   "source": [
    "### [Aprendizaje Profundo y Redes Neuronales](http://neuralnetworksanddeeplearning.com/index.html)\n",
    "\n",
    "La dificultad del reconocimiento de patrones visuales se hace evidente si intenta escribir un programa de computadora para reconocer dígitos como los anteriores. Lo que parece fácil cuando lo hacemos nosotros mismos de repente se vuelve extremadamente difícil. Las intuiciones simples sobre cómo reconocemos las formas, no son tan simples de expresar algorítmicamente. Cuando tratas de hacer precisas tales reglas, rápidamente te pierdes en una gran cantidad de excepciones y advertencias y casos especiales. Resulta desolador\n",
    "\n",
    "Las redes neuronales abordan el problema de una manera diferente. La idea es tomar un gran número de dígitos escritos a mano, conocidos como ejemplos de capacitación,\n",
    "\n",
    "<center> \n",
    "<a href=\"http://neuralnetworksanddeeplearning.com/chap1.html\">\n",
    "<img src=\"http://neuralnetworksanddeeplearning.com/images/mnist_100_digits.png\"></a>  \n",
    "</center>\n",
    "\n",
    "y luego desarrollar un sistema que pueda aprender de esos ejemplos de entrenamiento. En otras palabras, la red neuronal utiliza los ejemplos para inferir automáticamente reglas para reconocer dígitos escritos a mano. Además, al aumentar el número de ejemplos de capacitación, la red puede aprender más sobre la escritura a mano, y así mejorar su precisión."
   ]
  },
  {
   "cell_type": "markdown",
   "metadata": {},
   "source": [
    "> *La mayoría de los modelos modernos de aprendizaje profundo se basan en una red neuronal artificial*\n"
   ]
  },
  {
   "cell_type": "markdown",
   "metadata": {
    "slideshow": {
     "slide_type": "slide"
    }
   },
   "source": [
    "### [Aprendizaje Profundo y Redes Neuronales](http://neuralnetworksanddeeplearning.com/index.html)\n",
    "#### Neuronas Artificiales: El Perceptrón\n",
    "\n",
    "Las redes de neuronales estan hechas de neuronas y existen varios tipos. Una de ellas es el perceptrón:\n",
    "\n",
    "\n",
    "<center> \n",
    "<a href=\"http://neuralnetworksanddeeplearning.com/chap1.html\">\n",
    "<img src=\"http://neuralnetworksanddeeplearning.com/images/tikz0.png\"></a>  \n",
    "</center>\n",
    "\n",
    "*Un perceptrón toma varias entradas binarias (tres en este caso), $x_{1}, x_{2}, x_{2}$ y produce una salida binaria única*. Una manera de pensar sobre el perceptrón es que es un dispositivo que toma decisiones al sopesar la evidencia."
   ]
  },
  {
   "cell_type": "markdown",
   "metadata": {
    "slideshow": {
     "slide_type": "slide"
    }
   },
   "source": [
    "### [El Perceptrón](http://neuralnetworksanddeeplearning.com/index.html)\n",
    "\n",
    "No es  muy realista, pero es fácil de entender. Suponga que se acerca el fin de semana, y has oído que habrá un festival de la cerveza en tu ciudad. Te gusta el queso y estás tratando de decidir si ir o no al festival. Puede tomar su decisión sopesando tres factores:\n",
    "\n",
    "¿El clima esta agradable?\n",
    "¿Tu novio o novia quiere acompañarte?\n",
    "¿Está el festival cerca del transporte público? (No tienes auto).\n",
    "\n",
    "Podemos representar estos tres factores mediante las variables binarias correspondientes $x_{1}, x_{2}, x_{2}$. Por ejemplo, tendríamos $x_{1} = 1$ si el clima es bueno, y $x_{1} = 0$ si el clima es malo. De manera similar, $x_{2} = 1$ si su novio o novia quiere ir, y $x_{2} = 0$ si no. Similarmente de nuevo para $x_{3} = 1$ y transporte público.\n",
    "\n",
    "Ahora, supongamos que adoras la cerveza, tanto que estás feliz de ir al festival, incluso si a tu novio o novia no le interesa y es difícil llegar al festival. Pero tal vez realmente detestas el mal tiempo, y no hay manera de que vayas al festival si el clima es malo. "
   ]
  },
  {
   "cell_type": "markdown",
   "metadata": {
    "slideshow": {
     "slide_type": "slide"
    }
   },
   "source": [
    "### [El Perceptrón](http://neuralnetworksanddeeplearning.com/index.html)\n",
    "\n",
    "Puede utilizar perceptrones para modelar este tipo de toma de decisiones. En este caso el perceptrón viene dado por \n",
    "![](../images/perceptron.png)\n",
    "\n",
    "Los números(pesos) 6,2,2 se han escogido de manera que reflejen el hecho que el clima es muy importante para usted, mucho más que si su novio o novia se unen a usted o la cercanía del transporte público. Finalmente, suponga que elige un umbral de 5 para el perceptrón. Con estas opciones, el perceptrón implementa el modelo de toma de decisiones deseado, generando 1 cuando el clima es bueno y 0 cuando el clima es malo. No importa el resultado si su novio o novia quiere ir, o si el transporte público está cerca. \n",
    "\n",
    "Al variar los pesos y el umbral, podemos obtener diferentes modelos de toma de decisiones. Por ejemplo, supongamos que, en cambio, elegimos un umbral de 3. El perceptrón decidirá que deberías ir al festival cuando el tiempo fuera bueno o cuando el festival estaba cerca del transporte público y tu novio o novia estaba dispuesto a unírsele. En otras palabras, sería un modelo diferente de toma de decisiones. Bajar el umbral significa que estás más dispuesto a ir al festival."
   ]
  },
  {
   "cell_type": "markdown",
   "metadata": {
    "slideshow": {
     "slide_type": "slide"
    }
   },
   "source": [
    "### [El Perceptrón](http://neuralnetworksanddeeplearning.com/index.html)\n",
    "\n",
    "¡Obviamente, el perceptrón no es un modelo completo de toma de decisiones humanas! Pero lo que ilustra el ejemplo es cómo un perceptrón puede sopesar diferentes tipos de evidencia para tomar decisiones. Y debería parecer plausible que una compleja red de perceptrones pueda tomar decisiones bastante sutiles:\n",
    "<center> \n",
    "<a href=\"http://neuralnetworksanddeeplearning.com/chap1.html\">\n",
    "<img src=\"http://neuralnetworksanddeeplearning.com/images/tikz1.png\"></a>  \n",
    "</center>\n",
    "\n",
    "En esta red, la primera columna de perceptrones (lo que llamaremos la primera *capa* de perceptrones) está tomando tres decisiones muy simples, sopesando la evidencia de entrada. ¿Qué pasa con los perceptrones en la segunda capa? Cada uno de esos perceptrones está tomando una decisión sopesando los resultados del primer nivel de toma de decisiones. De esta manera, los  perceptrones en la sucesivos están tomando decisiones a un nivel más complejo y más abstracto que los perceptrones de sus capas anteriores:  una red de múltiples capas de perceptrones puede participar en la toma de decisiones sofisticada.\n",
    "\n"
   ]
  },
  {
   "cell_type": "markdown",
   "metadata": {
    "slideshow": {
     "slide_type": "slide"
    }
   },
   "source": [
    "### [El Perceptrón](http://neuralnetworksanddeeplearning.com/index.html)\n",
    "\n",
    "<center> \n",
    "<a href=\"http://neuralnetworksanddeeplearning.com/chap1.html\">\n",
    "<img src=\"http://neuralnetworksanddeeplearning.com/images/tikz1.png\" withd></a>  \n",
    "</center>\n",
    "\n",
    "En la red de arriba, los perceptrones parecen tener múltiples salidas. De hecho, todavía son de salida única. Las flechas de salida múltiple son simplemente una forma útil de indicar que la salida de un perceptrón se está utilizando como entrada para varios otros perceptrones. Es menos difícil de manejar que dibujar una sola línea de salida que luego se divide.\n",
    "\n",
    "_Resulta ser que se pueden idear __algoritmos de aprendizaje__ que pueden ajustar automáticamente los pesos de una red de neuronas artificiales. Esta sintonización ocurre en respuesta a estímulos externos, sin la intervención directa de un programador._"
   ]
  },
  {
   "cell_type": "markdown",
   "metadata": {
    "slideshow": {
     "slide_type": "slide"
    }
   },
   "source": [
    "### El problema con los perceptrones\n",
    " Supongamos que tenemos una red de perceptrones que nos gustaría usar para aprender a resolver un problema, por ejemplo, las entradas a la red podrían ser los datos de píxeles de una imagen escaneada y manuscrita de un dígito. Y nos gustaría que la red aprendiera los pesos  para que la salida de la red clasifique correctamente el dígito. Supongamos que hacemos un pequeño cambio en algo de peso en la red. Lo que nos gustaría es que este pequeño cambio en el peso cause solo un pequeño cambio correspondiente en la salida de la red:\n",
    "<center> \n",
    "<a>\n",
    "<img src=\"../images/neurona-cambios-pequenos.png\" width='70%'></a>  \n",
    "</center>\n",
    "Así la red 'aprendará' poco a poco. Desafortunadamente, esto no pasa con los percetrones: Cambios pequeños en los pesos no garantizan cambios pequeños en la salida."
   ]
  },
  {
   "cell_type": "markdown",
   "metadata": {},
   "source": [
    "### Neurona Sigmoide\n",
    "Podemos superar este problema introduciendo un nuevo tipo de neurona artificial llamada neurona sigmoide. Las neuronas sigmoides son similares a los perceptrones, pero se modifican de modo que pequeños cambios en sus pesos y sesgos causan solo un pequeño cambio en su producción. Ese es el hecho crucial que permitirá que una red de neuronas sigmoides aprendan. Se presentan las neuronas sigmoideas de la misma manera que describimos los perceptrones:\n",
    "<center> \n",
    "<a href=\"http://neuralnetworksanddeeplearning.com/chap1.html\">\n",
    "<img src=\"http://neuralnetworksanddeeplearning.com/images/tikz0.png\"></a>  \n",
    "</center>\n",
    "\n",
    "Al igual que un perceptrón, la neurona sigmoide tiene entradas, x1, x2, ... Pero en lugar de ser solo 0 o 1, estas entradas también pueden tomar cualquier valor entre 0 y 1. Entonces, por ejemplo, 0.638 ... es una entrada válida para una neurona sigmoide."
   ]
  },
  {
   "cell_type": "markdown",
   "metadata": {},
   "source": [
    "### Neurona Sigmoide\n",
    " Además, al igual que un perceptrón, la neurona sigmoide tiene pesos para cada entrada, $w_1$, $w_2$. Pero la salida no es 0 o 1. Sino la función:\n",
    "<center> \n",
    "<a >\n",
    "<img src=\"../images/sigmoide-function.png\" width=40%></a>  \n",
    "</center>"
   ]
  },
  {
   "cell_type": "markdown",
   "metadata": {
    "slideshow": {
     "slide_type": "slide"
    }
   },
   "source": [
    "Para ver por qué esta función se parece a un percetrón la graficamos:"
   ]
  },
  {
   "cell_type": "code",
   "execution_count": 2,
   "metadata": {
    "slideshow": {
     "slide_type": "fragment"
    }
   },
   "outputs": [
    {
     "data": {
      "image/png": "[encoded data removed]",
      "text/plain": [
       "<matplotlib.figure.Figure at 0x7f639c576588>"
      ]
     },
     "metadata": {},
     "output_type": "display_data"
    }
   ],
   "source": [
    "import numpy as np\n",
    "from matplotlib import pyplot as plt\n",
    "\n",
    "def sigmoid(x):  \n",
    "    return  np.array([1 / (1 + np.exp(-y)) for y in x])\n",
    "\n",
    "                     \n",
    "t = np.linspace(-4,4,400)\n",
    "a = 4*sigmoid(t) - 2\n",
    "\n",
    "plt.title('Función Sigmoide')\n",
    "plt.plot(t,a)\n",
    "\n",
    "plt.show()"
   ]
  },
  {
   "cell_type": "markdown",
   "metadata": {
    "slideshow": {
     "slide_type": "slide"
    }
   },
   "source": [
    "Si $\\sigma$ hubiera sido de hecho una función escalonada, entonces la neurona sigmoidea sería un perceptrón, ya que la salida sería 1 o 0 dependiendo de si $\\mathrm{peso}$ es positivo o negativo:"
   ]
  },
  {
   "cell_type": "code",
   "execution_count": 3,
   "metadata": {
    "slideshow": {
     "slide_type": "fragment"
    }
   },
   "outputs": [
    {
     "data": {
      "image/png": "[encoded data removed]",
      "text/plain": [
       "<matplotlib.figure.Figure at 0x7f639c5d8b00>"
      ]
     },
     "metadata": {},
     "output_type": "display_data"
    }
   ],
   "source": [
    "b = 4*np.heaviside(t,.5) - 2\n",
    "plt.title('Función Paso')\n",
    "plt\n",
    "plt.plot(t,b,'m')\n",
    "plt.show()"
   ]
  },
  {
   "cell_type": "markdown",
   "metadata": {
    "slideshow": {
     "slide_type": "slide"
    }
   },
   "source": [
    "Al utilizar la función $\\sigma$ real, obtenemos, como ya se indicó anteriormente, un perceptrón suavizado. De hecho, es la suavidad de la función $\\sigma$ lo que es el hecho crucial, no su forma detallada. La suavidad de $\\sigma$ significa que pequeños cambios Δ en los pesos y producirán un pequeño cambio en la salida de la neurona:\n",
    "\n",
    "$\\Delta \\mathrm{salida} = \\frac{d(\\mathrm{salida})}{d (\\mathrm{peso})}\\Delta (\\mathrm{peso})$\n",
    "\n",
    "Entonces, mientras que las neuronas sigmoideas tienen una gran parte del mismo comportamiento cualitativo que los perceptrones, hacen mucho más fácil descubrir cómo el cambio de los pesos cambiará la salida."
   ]
  },
  {
   "cell_type": "markdown",
   "metadata": {},
   "source": [
    "Lo que realmente importa es la forma de $\\sigma$, y no su forma exacta. De hecho, se pueden utilizar neuronas donde la salida con otras funciones activación f:"
   ]
  },
  {
   "cell_type": "code",
   "execution_count": 4,
   "metadata": {},
   "outputs": [
    {
     "data": {
      "image/png": "[encoded data removed]",
      "text/plain": [
       "<matplotlib.figure.Figure at 0x7f636886b5f8>"
      ]
     },
     "metadata": {},
     "output_type": "display_data"
    }
   ],
   "source": [
    "\n",
    "def sigmoid(x):  \n",
    "    return  np.array([1 / (1 + np.exp(-y)) for y in x])\n",
    "\n",
    "def tanh(x):\n",
    "    return np.array([np.tanh(y) for y in x])\n",
    "\n",
    "t = np.linspace(-4,4,400)\n",
    "\n",
    "a = 4*sigmoid(t) - 2\n",
    "b = 1*tanh(t) + 0\n",
    "\n",
    "plt.plot(t,a,t,b)\n",
    "\n",
    "plt.show()"
   ]
  },
  {
   "cell_type": "markdown",
   "metadata": {
    "slideshow": {
     "slide_type": "slide"
    }
   },
   "source": [
    "¿Cómo deberíamos interpretar la salida de una neurona sigmoide? Obviamente, una gran diferencia entre los perceptrones y las neuronas sigmoideas es que las neuronas sigmoideas no solo producen la salida 0 o 1. Pueden tener como salida cualquier número real entre 0 y 1, por lo que valores como 0.173 ... y 0.689 ... son salidas legítimas. Esto puede ser útil, por ejemplo, si queremos usar el valor de salida para representar la intensidad promedio de los píxeles en una entrada de imagen a una red neuronal. Pero a veces puede ser una molestia. Supongamos que queremos que la salida de la red indique \"la imagen de entrada es un 9\" o \"la imagen de entrada no es un 9\". Obviamente, sería más fácil hacer esto si la salida fuera un 0 o un 1, como en un perceptrón. Pero en la práctica podemos establecer una convención para lidiar con esto, por ejemplo, al decidir interpretar cualquier salida de al menos 0.5 como que indica un \"9\", y cualquier salida menor a 0.5 indica que \"no es un 9\". Siempre declararé explícitamente cuando usamos dicha convención, por lo que no debería causar ninguna confusión."
   ]
  },
  {
   "cell_type": "markdown",
   "metadata": {},
   "source": [
    "### La arquitectura de las redes neuronales.\n",
    "\n",
    "Supongamos que tenemos la red:\n",
    "\n",
    "<center> \n",
    "<a>\n",
    "<img src=\"../images/architecture-simple.png\" width='60%'></a>  \n",
    "</center>\n",
    "\n",
    "La capa más a la izquierda en esta red se llama la *capa de entrada*, y las neuronas dentro de la capa se llaman *neuronas de entrada*. La capa de la derecha o de salida contiene las neuronas de salida, o, como en este caso, una neurona de *salida única*. La capa intermedia se denomina *capa oculta*, ya que las neuronas en esta capa no son entradas ni salidas."
   ]
  },
  {
   "cell_type": "markdown",
   "metadata": {
    "slideshow": {
     "slide_type": "slide"
    }
   },
   "source": [
    "### La arquitectura de las redes neuronales.\n",
    "\n",
    "Por ejemplo, la siguiente red de cuatro capas tiene dos capas ocultas:\n",
    "\n",
    "<center> \n",
    "<a>\n",
    "<img src=\"../images/architecture-layers.png\" width='60%'></a>  \n",
    "</center>\n",
    "\n",
    "El diseño de las capas de entrada y salida en una red a menudo es sencillo. Por ejemplo, supongamos que estamos tratando de determinar si una imagen escrita a mano representa un \"9\" o no. Una forma natural de diseñar la red es codificar las intensidades de los píxeles de la imagen en las neuronas de entrada. Si la imagen es de 64 por 64 en escala de grises, tendríamos 4,096 = 64 × 64 neuronas de entrada, con las intensidades escaladas adecuadamente entre 0 y 1. La capa de salida contendrá una sola neurona, con valores de salida inferiores a 0.5 indicando que \"la imagen de entrada no es un 9\", y valores mayores a 0.5 indicando que \"la imagen de entrada es un 9\".\n",
    "\n",
    "Si bien el diseño de las capas de entrada y salida de una red neuronal es a menudo sencillo, puede haber bastante arte en el diseño de las capas ocultas.  Hasta ahora, hemos estado discutiendo sobre redes neuronales donde la salida de una capa se usa como entrada para la siguiente capa. Estas redes se denominan *redes neuronales de avance*."
   ]
  },
  {
   "cell_type": "markdown",
   "metadata": {},
   "source": [
    "### [El conjunto de datos MNIST](http://yann.lecun.com/exdb/mnist/) \n",
    "\n",
    "Una vez que se tiene un  diseño de la red neuronal, ¿cómo puede aprender a reconocer los dígitos? Lo primero que se necesita es un conjunto de datos para aprender, el llamado _conjunto de datos de entrenamiento_.\n",
    "\n",
    "[El conjunto de datos MNIST](http://yann.lecun.com/exdb/mnist/)  contiene decenas de miles de imágenes escaneadas de dígitos escritos a mano, junto con sus clasificaciones correctas. El nombre de MNIST proviene del hecho de que es un subconjunto modificado de dos conjuntos de datos recopilados por NIST, el Instituto Nacional de Estándares y Tecnología de los Estados Unidos.\n",
    "\n",
    "_La formación de un clasificador con el conjunto de datos MNIST se considera el **hola mundo** del reconocimiento de imágenes._"
   ]
  },
  {
   "cell_type": "markdown",
   "metadata": {},
   "source": [
    "Se muestran algunas imágenes típicas de MNIST:\n",
    "    \n",
    "<center> \n",
    "<a href=\"http://neuralnetworksanddeeplearning.com/chap1.html\">\n",
    "<img src=\"http://neuralnetworksanddeeplearning.com/images/digits_separate.png\" width=50%></a>  \n",
    "</center>\n",
    "\n",
    "Los datos del MNIST vienen en dos partes. La primera parte contiene 60,000 imágenes que se utilizarán como _datos de entrenamiento_.  La segunda parte del conjunto de datos MNIST es 10,000 imágenes que se utilizarán como _datos de prueba_. Nuevamente, estas son imágenes de 28 por 28 en escala de grises. Usaremos los datos de prueba para evaluar qué tan bien nuestra red neuronal ha aprendido a reconocer dígitos.\n"
   ]
  },
  {
   "cell_type": "markdown",
   "metadata": {},
   "source": [
    "Se usa la notación $x$ para indicar una entrada de entrenamiento. Será conveniente considerar cada entrada de entrenamiento $x$  como un vector de 28 × 28 = 784 dimensiones. Cada entrada en el vector representa el valor de gris para un solo píxel en la imagen. La salida deseada correspondiente es $y = y (x)$, donde $y$ es un vector de 10 dimensiones. Por ejemplo, si una imagen de entrenamiento en particular, $x$, representa un 6, entonces $y (x) = (0,0,0,0,0,0,1,0,0,0)^{\\intercal}$ es la salida deseada de la red."
   ]
  },
  {
   "cell_type": "markdown",
   "metadata": {},
   "source": [
    "### Función de Costo Cuadrático\n",
    "Necesitamos un algoritmo que sirva para perfeccionar los pesos de la red, de tal forma que nuestras predicciones sean mejores. Para ello, usamos la [Función de Costo Cuadrático](https://www.codecogs.com/latex/eqneditor.php)\n",
    "<center> \n",
    "<a>\n",
    "<img src=\"../images/cost-function-only-weights.png\" width=30%></a>  \n",
    "</center>\n",
    "Aquí, $w$ denota la colección de todos los pesos en la red, $n$ es el número total de entradas de entrenamiento, $a$ es el vector de salidas de la red cuando $x$ es una entrada, y la suma es sobre todas las entradas de entrenamiento, $X$. Por supuesto, la salida a depende de $x$ y  $w$. La notación $\\vert\\vert v\\vert\\vert$ solo denota la función de longitud usual para un vector $v$. A  $C$ la función de costo cuadrático; a veces también se conoce como _error cuadrático medio (MSE)_ , _función de perdida_ o _función de objetiva_.  "
   ]
  },
  {
   "cell_type": "markdown",
   "metadata": {},
   "source": [
    "***EL objetivo al entrenar una red neuronal es encontrar pesos que minimicen la función de costo $C$***\n",
    "\n",
    "Aprovechando que la la función tiene derivadas, se ataca el problema usando _cálculo_ para tratar de encontrar el mínimo analíticamente. Se  calcular el gradiente de $C$ (o sea sus derivadas) y luego se usa para encontrar lugares donde $C$ es un extremo. Hacerlo directamente se convertie en una pesadilla cuando se tienen muchas más variables: las redes neuronales más grandes tienen funciones de costo que dependen de miles de millones de pesos de una manera extremadamente complicada.\n",
    "\n",
    "Para hacer esto práctico, es comun usar el  _descenso de gradiente estocástico_ y el _algoritmo de retropragación_ para acelerar el aprendizaje."
   ]
  },
  {
   "cell_type": "markdown",
   "metadata": {},
   "source": [
    "### [Descenso de gradiente estocástico](http://neuralnetworksanddeeplearning.com/chap1.html#learning_with_gradient_descent)\n",
    " La idea es estimar el gradiente de $C$ para una pequeña muestra de insumos de entrenamiento elegidos al azar. Al promediar sobre esta pequeña muestra, resulta que podemos obtener rápidamente una buena estimación del gradiente verdadero, y esto ayuda a acelerar el descenso del gradiente y, por lo tanto, el aprendizaje.\n",
    " \n",
    " \n",
    "### [Algoritmo de retroprapagación](http://neuralnetworksanddeeplearning.com/chap2.html)\n",
    "\n",
    "Se calculan los errores comenzando desde la capa final. Puede parecer extraño que estemos retrocediendo por la red. Pero se aprovecha que el retroceso es una consecuencia del hecho de que el costo es una función de las salidas de la red. \n"
   ]
  },
  {
   "cell_type": "markdown",
   "metadata": {},
   "source": [
    "### [Otras funciones de Costo](https://stats.stackexchange.com/questions/154879/a-list-of-cost-functions-used-in-neural-networks-alongside-applications)\n",
    "Una función de costo es una medida de \"qué tan buena\" se hizo una red neuronal con respecto a su muestra de capacitación y el resultado esperado. También puede depender de variables tales como pesos y sesgos.\n",
    "El costo cuadrático no es la unica funcion de costo que se utiliza en redes neuronales. Un ejemplo de otro costo es la [entropía cruzada](http://neuralnetworksanddeeplearning.com/chap3.html#the_cross-entropy_cost_function):\n",
    "$$ \n",
    "C=-\\frac{1}{n} \\sum_{x}[y \\ln a+(1-y) \\ln (1-a)]\n",
    " $$\n",
    "### [Otras Funciones de Activación](https://towardsdatascience.com/activation-functions-neural-networks-1cbd9f8d91d6)\n",
    "También  existen varias de funciones de activación. Una de las funciones más usadas en la actualidad es la [función ReLu](https://medium.com/the-theory-of-everything/understanding-activation-functions-in-neural-networks-9491262884e0)."
   ]
  },
  {
   "cell_type": "markdown",
   "metadata": {},
   "source": [
    "### [Sobreentrenamiento (Sobreajuste)](http://neuralnetworksanddeeplearning.com/chap3.html#overfitting_and_regularization)\n",
    "Los modelos con una gran cantidad de parámetros libres pueden describir una variedad asombrosa de fenómenos. Incluso si un modelo de este tipo coincide con los datos disponibles, eso no lo convierte en un buen modelo. Puede significar que hay suficiente libertad en el modelo para que pueda describir casi cualquier conjunto de datos del tamaño dado, sin capturar ninguna visión genuina del fenómeno subyacente. Cuando eso suceda, el modelo funcionará bien para los datos existentes, pero no se generalizará a nuevas situaciones. \n",
    "\n",
    "En general, una de las mejores maneras de reducir el sobreajuste es aumentar el tamaño de los datos de entrenamiento. Con suficientes datos de entrenamiento, es difícil que incluso una red muy grande se adapte excesivamente. Desafortunadamente, los datos de capacitación pueden ser costosos o difíciles de adquirir, por lo que no siempre es una opción práctica.\n"
   ]
  },
  {
   "cell_type": "markdown",
   "metadata": {},
   "source": [
    "### [Regularización](https://www.analyticsvidhya.com/blog/2018/04/fundamentals-deep-learning-regularization-techniques/)\n",
    "\n",
    "Aumentar la cantidad de datos de entrenamiento es una forma de reducir el sobreajuste. ¿Hay otras maneras en que podamos reducir la medida en que ocurre el sobreajuste? Al conjunto de técnicas que pueden reducir el sobreajuste, incluso cuando tenemos una red fija y datos de entrenamiento fijos, se les denomina métodos o técnias _de regularización_ de los datos.\n",
    "\n",
    "Entre los nombres más populares se encuentran: _L1_ , _L2_ , _dropout_ y _aumento inteligente_.\n",
    "\n",
    "#### Dropout \n",
    "Por ejemplo con el dropout se modifica el tamaño de la red.\n",
    "### Inicializacion de los pesos\n",
    "\n",
    "Cuando se crea una red neural, se tienen que elegir las ponderaciones y sesgos iniciales. Tambien hay técnicas para eligir pesos iniciales."
   ]
  },
  {
   "cell_type": "markdown",
   "metadata": {},
   "source": [
    "### [MNIST con Keras](https://nextjournal.com/gkoehler/digit-recognition-with-keras)\n",
    "\n",
    "Recapitulando: Si el costo $C$ es cero para cualquier predicción (salida de la red), entonces estas son _predicciones exactas_. Obviamente esto no es posible.  **Se busca entrenar la red mediante algoritmos que hacen que  $C$ disminuya en **\n",
    "\n",
    "Existe una amplia gama de librerias computacionales para semejante empresa. Aqui se usan las librerias **Tensorflow** y **keras** de **python**.\n"
   ]
  },
  {
   "cell_type": "markdown",
   "metadata": {},
   "source": [
    "### [TensorFlow](https://www.tensorflow.org/)\n",
    "\n",
    "TensorFlow es una plataforma de código abierto  para el aprendizaje automático. Cuenta con un ecosistema integral y flexible de herramientas, bibliotecas y recursos de la comunidad que permite a los investigadores impulsar el estado de la técnica en ML y los desarrolladores pueden crear y desplegar fácilmente aplicaciones potenciadas por ML.\n",
    "\n",
    "### [Keras](https://keras.io/)\n",
    "\n",
    "Keras es una interfaz de programación de aplicaciones (API) de redes neuronales de alto nivel, escrita en Python y capaz de ejecutarse sobre TensorFlow, CNTK o Theano. Fue desarrollado con un enfoque en permitir la experimentación rápida. Poder pasar de la idea al resultado con el menor retraso posible es clave para hacer una buena investigación."
   ]
  },
  {
   "cell_type": "code",
   "execution_count": 5,
   "metadata": {},
   "outputs": [],
   "source": [
    "# Importaciones para manejo de matrices y figuras.\n",
    "import numpy as np\n",
    "import matplotlib\n",
    "#matplotlib.use('agg')\n",
    "import matplotlib.pyplot as plt"
   ]
  },
  {
   "cell_type": "code",
   "execution_count": 6,
   "metadata": {},
   "outputs": [],
   "source": [
    "\n",
    "# let's keep our keras backend tensorflow quiet\n",
    "import os\n",
    "os.environ['TF_CPP_MIN_LOG_LEVEL']='3'\n",
    "# for testing on CPU\n",
    "#os.environ['CUDA_VISIBLE_DEVICES'] = ''"
   ]
  },
  {
   "cell_type": "code",
   "execution_count": 7,
   "metadata": {},
   "outputs": [
    {
     "name": "stderr",
     "output_type": "stream",
     "text": [
      "/home/enrique/anaconda3/lib/python3.6/site-packages/h5py/__init__.py:36: FutureWarning: Conversion of the second argument of issubdtype from `float` to `np.floating` is deprecated. In future, it will be treated as `np.float64 == np.dtype(float).type`.\n",
      "  from ._conv import register_converters as _register_converters\n",
      "Using TensorFlow backend.\n"
     ]
    }
   ],
   "source": [
    "# Keras importes para el conjunto de datos y para construir la red neuronal\n",
    "from keras.datasets import mnist\n",
    "from keras.models import Sequential, load_model\n",
    "from keras.layers.core import Dense, Dropout, Activation\n",
    "from keras.utils import np_utils"
   ]
  },
  {
   "cell_type": "markdown",
   "metadata": {},
   "source": [
    "Cargue el conjunto de datos utilizando la función que divide los datos del MNIST en conjuntos de entrenamiento y de prueba."
   ]
  },
  {
   "cell_type": "code",
   "execution_count": 8,
   "metadata": {
    "slideshow": {
     "slide_type": "slide"
    }
   },
   "outputs": [],
   "source": [
    "(X_train, y_train), (X_test, y_test) = mnist.load_data()"
   ]
  },
  {
   "cell_type": "markdown",
   "metadata": {},
   "source": [
    "Inspeccione algunos ejemplos. El conjunto de datos MNIST contiene solo imágenes en escala de grises. Para conjuntos de datos de imagen más avanzados, se tienen  los tres canales de color (RGB)."
   ]
  },
  {
   "cell_type": "code",
   "execution_count": 9,
   "metadata": {},
   "outputs": [
    {
     "data": {
      "image/png": "[encoded data removed]",
      "text/plain": [
       "<matplotlib.figure.Figure at 0x7f63504989b0>"
      ]
     },
     "metadata": {},
     "output_type": "display_data"
    }
   ],
   "source": [
    "fig = plt.figure()\n",
    "for i in range(9):\n",
    "  plt.subplot(3,3,i+1)\n",
    "  plt.tight_layout()\n",
    "  plt.imshow(X_train[i], cmap='gray', interpolation='none')\n",
    "  plt.title(\"Digit: {}\".format(y_train[i]))\n",
    "  plt.xticks([])\n",
    "  plt.yticks([])\n",
    "fig\n",
    "plt.show();"
   ]
  },
  {
   "cell_type": "markdown",
   "metadata": {},
   "source": [
    "Para entrenar la red neuronal para clasificar imágenes, primero se ponen los píxeles en un gran vector de entrada: _la capa de entrada_. Así que su longitud debe ser $28\\times 28 = 784$. Se grafica la distribución de nuestros valores de píxeles:"
   ]
  },
  {
   "cell_type": "code",
   "execution_count": 10,
   "metadata": {},
   "outputs": [
    {
     "data": {
      "image/png": "[encoded data removed]",
      "text/plain": [
       "<matplotlib.figure.Figure at 0x7f63504982b0>"
      ]
     },
     "metadata": {},
     "output_type": "display_data"
    }
   ],
   "source": [
    "fig = plt.figure()\n",
    "plt.subplot(2,1,1)\n",
    "plt.imshow(X_train[0], cmap='gray', interpolation='none')\n",
    "plt.title(\"Dígito: {}\".format(y_train[0]))\n",
    "plt.xticks([])\n",
    "plt.yticks([])\n",
    "plt.subplot(2,1,2)\n",
    "plt.hist(X_train[0].reshape(784))\n",
    "plt.title(\"Distribución del valor de los Pixeles\");"
   ]
  },
  {
   "cell_type": "markdown",
   "metadata": {},
   "source": [
    "Como se esperaba, los valores de los píxeles oscilan entre 0 y 255: la mayoría de fondo (_negro_) está cerca de 0 y los cerca de 255 (_blanco_) representan el dígito.\n",
    "\n",
    "La normalización de los datos de entrada ayuda a acelerar el entrenamiento. Además, reduce la posibilidad de atascarse en los óptimos locales, ya que estamos usando el descenso de gradiente estocástico para encontrar los pesos óptimos para la red.\n",
    "\n",
    "Cambiemos la forma de nuestras entradas a un único vector vy normalicemos los valores de píxel entre 0 y 1."
   ]
  },
  {
   "cell_type": "code",
   "execution_count": 11,
   "metadata": {},
   "outputs": [
    {
     "name": "stdout",
     "output_type": "stream",
     "text": [
      "Forma de X_train (60000, 28, 28)\n",
      "Forma de Y_train (60000,)\n",
      "Forma de X_test (10000, 28, 28)\n",
      "Forma de Y_test (10000,)\n",
      "Forma del conjunto de entrenamiento (60000, 784)\n",
      "Forma del conjunto de prueba (10000, 784)\n"
     ]
    }
   ],
   "source": [
    "# imprimamos la forma antes de remodelar y normalizar\n",
    "print(\"Forma de X_train\", X_train.shape)\n",
    "print(\"Forma de Y_train\", y_train.shape)\n",
    "print(\"Forma de X_test\", X_test.shape)\n",
    "print(\"Forma de Y_test\", y_test.shape)\n",
    "\n",
    "# Construyendo el vector de entrada a partir de los 28x28 píxeles.\n",
    "X_train = X_train.reshape(60000, 784)\n",
    "X_test = X_test.reshape(10000, 784)\n",
    "X_train = X_train.astype('float32')\n",
    "X_test = X_test.astype('float32')\n",
    "\n",
    "\n",
    "# Normalizando los datos para ayudar con el entrenamiento.\n",
    "X_train /= 255\n",
    "X_test /= 255\n",
    "\n",
    "# imprimir la forma de entrada final listo para el entrenamiento\n",
    "print(\"Forma del conjunto de entrenamiento\", X_train.shape)\n",
    "print(\"Forma del conjunto de prueba\", X_test.shape)"
   ]
  },
  {
   "cell_type": "markdown",
   "metadata": {},
   "source": [
    "Verificamos que  la _verdad_, o sea el conjunto de vectores de salida ($Y$ en la jerga del aprendizaje automático) para capacitar la red tiene sólo enteros de 0 a 9."
   ]
  },
  {
   "cell_type": "code",
   "execution_count": 12,
   "metadata": {},
   "outputs": [
    {
     "name": "stdout",
     "output_type": "stream",
     "text": [
      "(array([0, 1, 2, 3, 4, 5, 6, 7, 8, 9], dtype=uint8), array([5923, 6742, 5958, 6131, 5842, 5421, 5918, 6265, 5851, 5949]))\n"
     ]
    }
   ],
   "source": [
    "print(np.unique(y_train, return_counts=True))"
   ]
  },
  {
   "cell_type": "markdown",
   "metadata": {},
   "source": [
    "Como se ha argumentado, las salidas (o  _categorías de salida_),  los dígitos del 0 al 9, se codifican en un vector de diez componentes. El vector es igual a cero en todas sus componenetes excepto en la posición para la categoría respectiva. Así, un $5$ estará representado por $(0,0,0,0,1,0,0,0,0,0)^{\\intercal}$:"
   ]
  },
  {
   "cell_type": "code",
   "execution_count": 13,
   "metadata": {},
   "outputs": [
    {
     "name": "stdout",
     "output_type": "stream",
     "text": [
      "Forma antes de una 'codificación instantánea':  (60000,)\n",
      "Forma después de una 'codificación instantánea':  (60000, 10)\n"
     ]
    }
   ],
   "source": [
    "# Codificación instantánea utilizando las utilidades de relacionadas de numpy y  keras.\n",
    "n_classes = 10\n",
    "print(\"Forma antes de una 'codificación instantánea': \", y_train.shape)\n",
    "Y_train = np_utils.to_categorical(y_train, n_classes)\n",
    "Y_test = np_utils.to_categorical(y_test, n_classes)\n",
    "print(\"Forma después de una 'codificación instantánea': \", Y_train.shape)"
   ]
  },
  {
   "cell_type": "markdown",
   "metadata": {},
   "source": [
    "## [Construyendo la red](http://alexlenail.me/NN-SVG/index.html)\n",
    "\n",
    "Utilice Keras para construir la red neuronal.\n",
    "<center> \n",
    "<a>\n",
    "<img src=\"../images/neural-net-concrete-keras.png\" width='60%'></a>  \n",
    "</center>"
   ]
  },
  {
   "cell_type": "markdown",
   "metadata": {},
   "source": [
    "El vector de píxeles sirve como el conjunto de neuronas entrada. Luego, dos capas ocultas de 512 neuronas (nodos). Para esta arquitectura de red use _el modelo secuencial de Keras_, que representa la clase  de modelos  lineales en los pesos. Se apilan capas utilizando el método _.add()_."
   ]
  },
  {
   "cell_type": "markdown",
   "metadata": {},
   "source": [
    "## Densidad de la Red\n",
    "Cuando cada neurona de entrada está conectada a cada neurona salida por un peso se dice que la red esta  _densamente conectada_(o _totalmente conectada_)\n",
    "\n",
    "Para la clasificación de múltiples clases, se agreaga otra capa _densamente conectada_(o _totalmente conectada_) para las 10 clases de neuronas de salida diferentes. "
   ]
  },
  {
   "cell_type": "code",
   "execution_count": 14,
   "metadata": {},
   "outputs": [],
   "source": [
    "# Construyendo una pila lineal de capas con el modelo secuencial.\n",
    "model = Sequential()\n",
    "model.add(Dense(512, input_shape=(784,)))\n",
    "model.add(Activation('relu'))                            \n",
    "model.add(Dropout(0.2))\n",
    "\n",
    "model.add(Dense(512))\n",
    "model.add(Activation('relu'))\n",
    "model.add(Dropout(0.2))\n",
    "\n",
    "model.add(Dense(10))\n",
    "model.add(Activation('softmax'))"
   ]
  },
  {
   "cell_type": "markdown",
   "metadata": {},
   "source": [
    "Al agregar la primera capa en el Modelo Secuencial, se necesita especificar la forma de entrada para que _Keras_ pueda crear las matrices apropiadas. Para todas las capas restantes la forma se deduce automáticamente."
   ]
  },
  {
   "cell_type": "markdown",
   "metadata": {},
   "source": [
    "Para introducir no-linealidades en la red y elevarla más allá de las capacidades de un simple _perceptrón_, se han agredado funciones de activación a las capas ocultas. La diferenciación para el entrenamiento a través de la _propagación hacia atrás_ se está produce entre bastidores sin tener que implementar los detalles."
   ]
  },
  {
   "cell_type": "markdown",
   "metadata": {},
   "source": [
    "También se ha agregado el método de _dropout_ para evitar el _sobreajuste_. La fracción de unidades no consideradas se toma como $0.2$"
   ]
  },
  {
   "cell_type": "markdown",
   "metadata": {},
   "source": [
    "La última capa consta de conexiones para las 10 neuronas de salida. Se incluye la funcion activación de _softmax_ (estándar para cuando hay varias salidas)."
   ]
  },
  {
   "cell_type": "markdown",
   "metadata": {},
   "source": [
    "### Compilación y entrenamiento del modelo\n",
    "Configure el proceso de aprendizaje utilizando _.compile()_. Aquí se especifica la función de costo(o función objetivo). Para esta configuración, se utiliza la  _entropía cruzada_."
   ]
  },
  {
   "cell_type": "markdown",
   "metadata": {},
   "source": [
    "En cuanto al optimizador de elección, usaremos Adam con la configuración predeterminada. También podríamos crear una instancia de un optimizador y establecer parámetros antes de pasarlo a model.compile (), pero para este ejemplo, los valores predeterminados serán suficientes."
   ]
  },
  {
   "cell_type": "markdown",
   "metadata": {},
   "source": [
    "We also choose which metrics will be evaluated during training and testing. We can pass any list of metrics - even build metrics ourselves - and have them displayed during training/testing. We'll stick to accuracy for now."
   ]
  },
  {
   "cell_type": "code",
   "execution_count": 15,
   "metadata": {},
   "outputs": [
    {
     "data": {
      "image/png": "[encoded data removed]",
      "text/plain": [
       "<matplotlib.figure.Figure at 0x7f634dbcd860>"
      ]
     },
     "metadata": {},
     "output_type": "display_data"
    }
   ],
   "source": [
    "import matplotlib.pyplot as plt\n",
    "from matplotlib.collections import EventCollection\n",
    "import numpy as np\n",
    "\n",
    "# Fijación de estado aleatorio para reproducibilidad.\n",
    "np.random.seed(19680801)\n",
    "\n",
    "# crear datos aleatorios\n",
    "xdata = np.random.random([2, 10])\n",
    "\n",
    "# dividir los datos en dos partes\n",
    "xdata1 = xdata[0, :]\n",
    "xdata2 = xdata[1, :]\n",
    "\n",
    "# ordenar los datos para que haga curvas limpias\n",
    "xdata1.sort()\n",
    "xdata2.sort()\n",
    "\n",
    "# crear algunos puntos de datos y\n",
    "ydata1 = xdata1 ** 2\n",
    "ydata2 = 1 - xdata2 ** 3\n",
    "\n",
    "# plot the data\n",
    "fig = plt.figure()\n",
    "ax = fig.add_subplot(1, 1, 1)\n",
    "ax.plot(xdata1, ydata1, 'r', xdata2, ydata2, 'b')\n",
    "\n",
    "# create the events marking the x data points\n",
    "xevents1 = EventCollection(xdata1, color=[1, 0, 0], linelength=0.05)\n",
    "xevents2 = EventCollection(xdata2, color=[0, 0, 1], linelength=0.05)\n",
    "\n",
    "# create the events marking the y data points\n",
    "yevents1 = EventCollection(ydata1, color=[1, 0, 0], linelength=0.05,\n",
    "                           orientation='vertical')\n",
    "yevents2 = EventCollection(ydata2, color=[0, 0, 1], linelength=0.05,\n",
    "                           orientation='vertical')\n",
    "\n",
    "# add the events to the axis\n",
    "ax.add_collection(xevents1)\n",
    "ax.add_collection(xevents2)\n",
    "ax.add_collection(yevents1)\n",
    "ax.add_collection(yevents2)\n",
    "\n",
    "# set the limits\n",
    "ax.set_xlim([0, 1])\n",
    "ax.set_ylim([0, 1])\n",
    "\n",
    "ax.set_title('line plot with data points')\n",
    "\n",
    "# display the plot\n",
    "plt.show()"
   ]
  },
  {
   "cell_type": "code",
   "execution_count": null,
   "metadata": {
    "_uuid": "371731306c3e504b191979706e826c247def88dc",
    "slideshow": {
     "slide_type": "slide"
    }
   },
   "outputs": [],
   "source": [
    "from numpy.random import seed\n",
    "seed(101)\n",
    "from tensorflow import set_random_seed\n",
    "set_random_seed(101)\n",
    "\n",
    "import pandas as pd\n",
    "import numpy as np\n",
    "#import keras\n",
    "#from keras import backend as K\n",
    "\n",
    "import tensorflow\n",
    "from tensorflow.keras.layers import Dense, Dropout\n",
    "from tensorflow.keras.optimizers import Adam\n",
    "from tensorflow.keras.metrics import categorical_crossentropy\n",
    "from tensorflow.keras.preprocessing.image import ImageDataGenerator\n",
    "from tensorflow.keras.models import Model\n",
    "from tensorflow.keras.callbacks import EarlyStopping, ReduceLROnPlateau, ModelCheckpoint\n",
    "\n",
    "import os\n",
    "\n",
    "from sklearn.metrics import confusion_matrix\n",
    "from sklearn.model_selection import train_test_split\n",
    "import itertools\n",
    "import shutil\n",
    "import matplotlib.pyplot as plt\n",
    "%matplotlib inline\n"
   ]
  },
  {
   "cell_type": "code",
   "execution_count": null,
   "metadata": {
    "_uuid": "371731306c3e504b191979706e826c247def88dc"
   },
   "outputs": [],
   "source": [
    "from numpy.random import seed\n",
    "seed(101)\n",
    "from tensorflow import set_random_seed\n",
    "set_random_seed(101)\n",
    "\n",
    "import pandas as pd\n",
    "import numpy as np\n",
    "#import keras\n",
    "#from keras import backend as K\n",
    "\n",
    "import tensorflow\n",
    "from tensorflow.keras.layers import Dense, Dropout\n",
    "from tensorflow.keras.optimizers import Adam\n",
    "from tensorflow.keras.metrics import categorical_crossentropy\n",
    "from tensorflow.keras.preprocessing.image import ImageDataGenerator\n",
    "from tensorflow.keras.models import Model\n",
    "from tensorflow.keras.callbacks import EarlyStopping, ReduceLROnPlateau, ModelCheckpoint\n",
    "\n",
    "import os\n",
    "\n",
    "from sklearn.metrics import confusion_matrix\n",
    "from sklearn.model_selection import train_test_split\n",
    "import itertools\n",
    "import shutil\n",
    "import matplotlib.pyplot as plt\n",
    "%matplotlib inline\n"
   ]
  },
  {
   "cell_type": "markdown",
   "metadata": {},
   "source": [
    "### Redes Neuronales"
   ]
  },
  {
   "cell_type": "code",
   "execution_count": null,
   "metadata": {
    "_uuid": "371731306c3e504b191979706e826c247def88dc"
   },
   "outputs": [],
   "source": [
    "from numpy.random import seed\n",
    "#Semilla para el generador de números aleatorios de numpy\n",
    "seed(101)\n",
    "\n",
    "from tensorflow import set_random_seed\n",
    "#Semilla para el generador de números aleatorios de tensorflow\n",
    "set_random_seed(101)\n",
    "\n",
    "import pandas as pd\n",
    "import numpy as np\n",
    "#import keras\n",
    "#from keras import backend as K\n",
    "\n",
    "import tensorflow\n",
    "from tensorflow.keras.layers import Dense, Dropout\n",
    "from tensorflow.keras.optimizers import Adam\n",
    "from tensorflow.keras.metrics import categorical_crossentropy\n",
    "from tensorflow.keras.preprocessing.image import ImageDataGenerator\n",
    "from tensorflow.keras.models import Model\n",
    "from tensorflow.keras.callbacks import EarlyStopping, ReduceLROnPlateau, ModelCheckpoint\n",
    "\n",
    "import os\n",
    "\n",
    "from sklearn.metrics import confusion_matrix\n",
    "from sklearn.model_selection import train_test_split\n",
    "import itertools\n",
    "import shutil\n",
    "import matplotlib.pyplot as plt\n",
    "%matplotlib inline\n"
   ]
  },
  {
   "cell_type": "code",
   "execution_count": null,
   "metadata": {
    "_uuid": "d5a0a200bfc57c5489eaa930255d9420a7d01c47"
   },
   "outputs": [],
   "source": [
    "os.listdir('../input')"
   ]
  },
  {
   "cell_type": "markdown",
   "metadata": {
    "_uuid": "086162161ba405b800863e7d545b5917e5205984"
   },
   "source": [
    "### Create the directory structure\n",
    "\n",
    "In these folders we will store the images that will later be fed to the Keras generators. "
   ]
  },
  {
   "cell_type": "code",
   "execution_count": null,
   "metadata": {
    "_uuid": "d24ef21f9f2359b8bf6b3e7a0b8ab5a43daaf566"
   },
   "outputs": [],
   "source": [
    "\n",
    "\n",
    "# Create a new directory\n",
    "base_dir = 'base_dir'\n",
    "os.mkdir(base_dir)\n",
    "\n",
    "\n",
    "#[CREATE FOLDERS INSIDE THE BASE DIRECTORY]\n",
    "\n",
    "# now we create 7 folders inside 'base_dir':\n",
    "\n",
    "# train_dir\n",
    "    # nv\n",
    "    # mel\n",
    "    # bkl\n",
    "    # bcc\n",
    "    # akiec\n",
    "    # vasc\n",
    "    # df\n",
    " \n",
    "# val_dir\n",
    "    # nv\n",
    "    # mel\n",
    "    # bkl\n",
    "    # bcc\n",
    "    # akiec\n",
    "    # vasc\n",
    "    # df\n",
    "\n",
    "# create a path to 'base_dir' to which we will join the names of the new folders\n",
    "# train_dir\n",
    "train_dir = os.path.join(base_dir, 'train_dir')\n",
    "os.mkdir(train_dir)\n",
    "\n",
    "# val_dir\n",
    "val_dir = os.path.join(base_dir, 'val_dir')\n",
    "os.mkdir(val_dir)\n",
    "\n",
    "\n",
    "# [CREATE FOLDERS INSIDE THE TRAIN, VALIDATION AND TEST FOLDERS]\n",
    "# Inside each folder we create seperate folders for each class\n",
    "\n",
    "# create new folders inside train_dir\n",
    "nv = os.path.join(train_dir, 'nv')\n",
    "os.mkdir(nv)\n",
    "mel = os.path.join(train_dir, 'mel')\n",
    "os.mkdir(mel)\n",
    "bkl = os.path.join(train_dir, 'bkl')\n",
    "os.mkdir(bkl)\n",
    "bcc = os.path.join(train_dir, 'bcc')\n",
    "os.mkdir(bcc)\n",
    "akiec = os.path.join(train_dir, 'akiec')\n",
    "os.mkdir(akiec)\n",
    "vasc = os.path.join(train_dir, 'vasc')\n",
    "os.mkdir(vasc)\n",
    "df = os.path.join(train_dir, 'df')\n",
    "os.mkdir(df)\n",
    "\n",
    "\n",
    "\n",
    "# create new folders inside val_dir\n",
    "nv = os.path.join(val_dir, 'nv')\n",
    "os.mkdir(nv)\n",
    "mel = os.path.join(val_dir, 'mel')\n",
    "os.mkdir(mel)\n",
    "bkl = os.path.join(val_dir, 'bkl')\n",
    "os.mkdir(bkl)\n",
    "bcc = os.path.join(val_dir, 'bcc')\n",
    "os.mkdir(bcc)\n",
    "akiec = os.path.join(val_dir, 'akiec')\n",
    "os.mkdir(akiec)\n",
    "vasc = os.path.join(val_dir, 'vasc')\n",
    "os.mkdir(vasc)\n",
    "df = os.path.join(val_dir, 'df')\n",
    "os.mkdir(df)\n",
    "\n"
   ]
  },
  {
   "cell_type": "markdown",
   "metadata": {
    "_uuid": "4ae8d37fdee293aaffa71a79019dd7277f8288fc"
   },
   "source": [
    "### Create Train and Val Sets"
   ]
  },
  {
   "cell_type": "code",
   "execution_count": null,
   "metadata": {
    "_uuid": "268503398ef61904e05a2c0b0667d589f08a19a8"
   },
   "outputs": [],
   "source": [
    "df_data = pd.read_csv('../input/HAM10000_metadata.csv')\n",
    "\n",
    "df_data.head()"
   ]
  },
  {
   "cell_type": "markdown",
   "metadata": {
    "_uuid": "c46ea5967e095d31dcf144b6f57f0343878fa432"
   },
   "source": [
    "### Create a stratified val set"
   ]
  },
  {
   "cell_type": "code",
   "execution_count": null,
   "metadata": {
    "_uuid": "53e4b7b152ed831a7d7516156ac300c0e6985ffc"
   },
   "outputs": [],
   "source": [
    "# this will tell us how many images are associated with each lesion_id\n",
    "df = df_data.groupby('lesion_id').count()\n",
    "\n",
    "# now we filter out lesion_id's that have only one image associated with it\n",
    "df = df[df['image_id'] == 1]\n",
    "\n",
    "df.reset_index(inplace=True)\n",
    "\n",
    "df.head()"
   ]
  },
  {
   "cell_type": "code",
   "execution_count": null,
   "metadata": {
    "_uuid": "24720fe3ea9f2f4b571abd09ecfbb931d6429852"
   },
   "outputs": [],
   "source": [
    "# here we identify lesion_id's that have duplicate images and those that have only\n",
    "# one image.\n",
    "\n",
    "def identify_duplicates(x):\n",
    "    \n",
    "    unique_list = list(df['lesion_id'])\n",
    "    \n",
    "    if x in unique_list:\n",
    "        return 'no_duplicates'\n",
    "    else:\n",
    "        return 'has_duplicates'\n",
    "    \n",
    "# create a new colum that is a copy of the lesion_id column\n",
    "df_data['duplicates'] = df_data['lesion_id']\n",
    "# apply the function to this new column\n",
    "df_data['duplicates'] = df_data['duplicates'].apply(identify_duplicates)\n",
    "\n",
    "df_data.head()"
   ]
  },
  {
   "cell_type": "code",
   "execution_count": null,
   "metadata": {
    "_uuid": "08b7eef3e0ac4112f63b8fb26ce19d55483cbc04"
   },
   "outputs": [],
   "source": [
    "df_data['duplicates'].value_counts()"
   ]
  },
  {
   "cell_type": "code",
   "execution_count": null,
   "metadata": {
    "_uuid": "995445dfda2745165a53e61f42615104b951d4af"
   },
   "outputs": [],
   "source": [
    "# now we filter out images that don't have duplicates\n",
    "df = df_data[df_data['duplicates'] == 'no_duplicates']\n",
    "\n",
    "df.shape"
   ]
  },
  {
   "cell_type": "code",
   "execution_count": null,
   "metadata": {
    "_uuid": "39fde25b59a9452cf700c5b2ff82cc7cc45c4a33"
   },
   "outputs": [],
   "source": [
    "# now we create a val set using df because we are sure that none of these images\n",
    "# have augmented duplicates in the train set\n",
    "y = df['dx']\n",
    "\n",
    "_, df_val = train_test_split(df, test_size=0.17, random_state=101, stratify=y)\n",
    "\n",
    "df_val.shape"
   ]
  },
  {
   "cell_type": "code",
   "execution_count": null,
   "metadata": {
    "_uuid": "1df37227f7ce993d054ed5b8480ee724696fc210"
   },
   "outputs": [],
   "source": [
    "df_val['dx'].value_counts()"
   ]
  },
  {
   "cell_type": "markdown",
   "metadata": {
    "_uuid": "08c5e12fcef2da5f49267a6b82161b2c52c2b20a"
   },
   "source": [
    "### Create a train set that excludes images that are in the val set"
   ]
  },
  {
   "cell_type": "code",
   "execution_count": null,
   "metadata": {
    "_uuid": "03715a6cf5aeb6430ee144a84eb10dde216c0fb9"
   },
   "outputs": [],
   "source": [
    "# This set will be df_data excluding all rows that are in the val set\n",
    "\n",
    "# This function identifies if an image is part of the train\n",
    "# or val set.\n",
    "def identify_val_rows(x):\n",
    "    # create a list of all the lesion_id's in the val set\n",
    "    val_list = list(df_val['image_id'])\n",
    "    \n",
    "    if str(x) in val_list:\n",
    "        return 'val'\n",
    "    else:\n",
    "        return 'train'\n",
    "\n",
    "# identify train and val rows\n",
    "\n",
    "# create a new colum that is a copy of the image_id column\n",
    "df_data['train_or_val'] = df_data['image_id']\n",
    "# apply the function to this new column\n",
    "df_data['train_or_val'] = df_data['train_or_val'].apply(identify_val_rows)\n",
    "   \n",
    "# filter out train rows\n",
    "df_train = df_data[df_data['train_or_val'] == 'train']\n",
    "\n",
    "\n",
    "print(len(df_train))\n",
    "print(len(df_val))"
   ]
  }
 ],
 "metadata": {
  "kernelspec": {
   "display_name": "Python 3",
   "language": "python",
   "name": "python3"
  },
  "language_info": {
   "codemirror_mode": {
    "name": "ipython",
    "version": 3
   },
   "file_extension": ".py",
   "mimetype": "text/x-python",
   "name": "python",
   "nbconvert_exporter": "python",
   "pygments_lexer": "ipython3",
   "version": "3.6.4"
  }
 },
 "nbformat": 4,
 "nbformat_minor": 2
}
